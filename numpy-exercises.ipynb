{
 "cells": [
  {
   "cell_type": "code",
   "execution_count": 1,
   "id": "4dd687a6",
   "metadata": {},
   "outputs": [],
   "source": [
    "import numpy as np\n",
    "array = np.array([4, 10, 12, 23, -2, -1, 0, 0, 0, -6, 3, -7])"
   ]
  },
  {
   "cell_type": "code",
   "execution_count": 86,
   "id": "71f32081",
   "metadata": {},
   "outputs": [
    {
     "data": {
      "text/plain": [
       "4"
      ]
     },
     "execution_count": 86,
     "metadata": {},
     "output_type": "execute_result"
    }
   ],
   "source": [
    "#How many negative numbers are there?\n",
    "(array < 0).sum()\n"
   ]
  },
  {
   "cell_type": "code",
   "execution_count": 87,
   "id": "1e861d9a",
   "metadata": {},
   "outputs": [
    {
     "data": {
      "text/plain": [
       "8"
      ]
     },
     "execution_count": 87,
     "metadata": {},
     "output_type": "execute_result"
    }
   ],
   "source": [
    "#How many even positive numbers are there?\n",
    "(array >=0).sum()"
   ]
  },
  {
   "cell_type": "code",
   "execution_count": 88,
   "id": "6b5bf9dd",
   "metadata": {},
   "outputs": [
    {
     "data": {
      "text/plain": [
       "3"
      ]
     },
     "execution_count": 88,
     "metadata": {},
     "output_type": "execute_result"
    }
   ],
   "source": [
    "#How many even positive numbers are there?\n",
    "even_pos_num = array[(array %2 == 0) & (array > 0)] \n",
    "(even_pos_num > 0).sum()"
   ]
  },
  {
   "cell_type": "code",
   "execution_count": 89,
   "id": "ff0c9e42",
   "metadata": {},
   "outputs": [
    {
     "data": {
      "text/plain": [
       "10"
      ]
     },
     "execution_count": 89,
     "metadata": {},
     "output_type": "execute_result"
    }
   ],
   "source": [
    "#If you were to add 3 to each data point, how many positive numbers would there be?\n",
    "array_add_3 = array +3\n",
    "(array_add_3 >= 0).sum()"
   ]
  },
  {
   "cell_type": "code",
   "execution_count": 52,
   "id": "7a8cc15c",
   "metadata": {},
   "outputs": [
    {
     "name": "stdout",
     "output_type": "stream",
     "text": [
      "Squared numbers mean is:  74.0\n",
      "Squared numbers standard deviation is:  144.0243035046516\n"
     ]
    }
   ],
   "source": [
    "#If you squared each number, what would the new mean and standard deviation be?\n",
    "array_squared = array **2\n",
    "print('Squared numbers mean is: ', array_squared.mean())\n",
    "print('Squared numbers standard deviation is: ',array_squared.std())"
   ]
  },
  {
   "cell_type": "code",
   "execution_count": null,
   "id": "7affed12",
   "metadata": {},
   "outputs": [],
   "source": [
    "#A common statistical operation on a dataset is centering. \n",
    "# This means to adjust the data such that the mean of the data is 0. \n",
    "# This is done by subtracting the mean from each data point. \n",
    "# Center the data set. See this link for more on centering.\n"
   ]
  },
  {
   "cell_type": "code",
   "execution_count": 54,
   "id": "beb32159",
   "metadata": {},
   "outputs": [
    {
     "data": {
      "text/plain": [
       "array([ 4, 10, 12, 23, -2, -1,  0,  0,  0, -6,  3, -7])"
      ]
     },
     "execution_count": 54,
     "metadata": {},
     "output_type": "execute_result"
    }
   ],
   "source": [
    "array"
   ]
  },
  {
   "cell_type": "code",
   "execution_count": 56,
   "id": "caa6d3a4",
   "metadata": {},
   "outputs": [
    {
     "data": {
      "text/plain": [
       "3.0"
      ]
     },
     "execution_count": 56,
     "metadata": {},
     "output_type": "execute_result"
    }
   ],
   "source": [
    "array.mean()"
   ]
  },
  {
   "cell_type": "code",
   "execution_count": 59,
   "id": "29219154",
   "metadata": {},
   "outputs": [],
   "source": [
    "centered_array = array -3"
   ]
  },
  {
   "cell_type": "code",
   "execution_count": 60,
   "id": "d01c279d",
   "metadata": {},
   "outputs": [
    {
     "data": {
      "text/plain": [
       "0.0"
      ]
     },
     "execution_count": 60,
     "metadata": {},
     "output_type": "execute_result"
    }
   ],
   "source": [
    "centered_array.mean()"
   ]
  },
  {
   "cell_type": "code",
   "execution_count": null,
   "id": "6638a4eb",
   "metadata": {},
   "outputs": [],
   "source": [
    "#calculate the z-score for each data point. Recall that the z-score is given by:"
   ]
  },
  {
   "cell_type": "code",
   "execution_count": null,
   "id": "65d41036",
   "metadata": {},
   "outputs": [],
   "source": [
    "#z =(value - mean/std)"
   ]
  },
  {
   "cell_type": "code",
   "execution_count": 76,
   "id": "594ebd62",
   "metadata": {},
   "outputs": [],
   "source": [
    "z_score = (array - array.mean())/array.std()"
   ]
  },
  {
   "cell_type": "code",
   "execution_count": 77,
   "id": "a56f4080",
   "metadata": {},
   "outputs": [
    {
     "data": {
      "text/plain": [
       "array([ 0.12403473,  0.86824314,  1.11631261,  2.48069469, -0.62017367,\n",
       "       -0.49613894, -0.3721042 , -0.3721042 , -0.3721042 , -1.11631261,\n",
       "        0.        , -1.24034735])"
      ]
     },
     "execution_count": 77,
     "metadata": {},
     "output_type": "execute_result"
    }
   ],
   "source": [
    "z_score"
   ]
  },
  {
   "cell_type": "code",
   "execution_count": 83,
   "id": "be634149",
   "metadata": {},
   "outputs": [],
   "source": [
    "# simplified way\n",
    "z_score2 = centered_array/array.std()"
   ]
  },
  {
   "cell_type": "code",
   "execution_count": 84,
   "id": "176be525",
   "metadata": {},
   "outputs": [
    {
     "data": {
      "text/plain": [
       "array([ 0.12403473,  0.86824314,  1.11631261,  2.48069469, -0.62017367,\n",
       "       -0.49613894, -0.3721042 , -0.3721042 , -0.3721042 , -1.11631261,\n",
       "        0.        , -1.24034735])"
      ]
     },
     "execution_count": 84,
     "metadata": {},
     "output_type": "execute_result"
    }
   ],
   "source": [
    "z_score2"
   ]
  },
  {
   "cell_type": "code",
   "execution_count": null,
   "id": "2bd6a930",
   "metadata": {},
   "outputs": [],
   "source": []
  }
 ],
 "metadata": {
  "kernelspec": {
   "display_name": "Python 3 (ipykernel)",
   "language": "python",
   "name": "python3"
  },
  "language_info": {
   "codemirror_mode": {
    "name": "ipython",
    "version": 3
   },
   "file_extension": ".py",
   "mimetype": "text/x-python",
   "name": "python",
   "nbconvert_exporter": "python",
   "pygments_lexer": "ipython3",
   "version": "3.9.13"
  }
 },
 "nbformat": 4,
 "nbformat_minor": 5
}
